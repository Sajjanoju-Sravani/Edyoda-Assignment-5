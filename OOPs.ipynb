{
 "cells": [
  {
   "cell_type": "markdown",
   "id": "f2ccb987",
   "metadata": {},
   "source": [
    "# Square number and return their sum"
   ]
  },
  {
   "cell_type": "code",
   "execution_count": 2,
   "id": "a3980b9f",
   "metadata": {},
   "outputs": [
    {
     "ename": "NameError",
     "evalue": "name 'x' is not defined",
     "output_type": "error",
     "traceback": [
      "\u001b[1;31m---------------------------------------------------------------------------\u001b[0m",
      "\u001b[1;31mNameError\u001b[0m                                 Traceback (most recent call last)",
      "Cell \u001b[1;32mIn[2], line 13\u001b[0m\n\u001b[0;32m     10\u001b[0m         \u001b[38;5;28;01mpass\u001b[39;00m\n\u001b[0;32m     12\u001b[0m a \u001b[38;5;241m=\u001b[39m point(\u001b[38;5;241m1\u001b[39m,\u001b[38;5;241m3\u001b[39m,\u001b[38;5;241m5\u001b[39m)\n\u001b[1;32m---> 13\u001b[0m \u001b[43ma\u001b[49m\u001b[38;5;241;43m.\u001b[39;49m\u001b[43msqSum\u001b[49m\u001b[43m(\u001b[49m\u001b[43m)\u001b[49m\n",
      "Cell \u001b[1;32mIn[2], line 9\u001b[0m, in \u001b[0;36mpoint.sqSum\u001b[1;34m(self)\u001b[0m\n\u001b[0;32m      8\u001b[0m \u001b[38;5;28;01mdef\u001b[39;00m \u001b[38;5;21msqSum\u001b[39m(\u001b[38;5;28mself\u001b[39m):\n\u001b[1;32m----> 9\u001b[0m     sqSum \u001b[38;5;241m=\u001b[39m (\u001b[43mx\u001b[49m\u001b[38;5;241m*\u001b[39mx) \u001b[38;5;241m+\u001b[39m (y\u001b[38;5;241m*\u001b[39my) \u001b[38;5;241m+\u001b[39m (z\u001b[38;5;241m*\u001b[39mz)\n\u001b[0;32m     10\u001b[0m     \u001b[38;5;28;01mpass\u001b[39;00m\n",
      "\u001b[1;31mNameError\u001b[0m: name 'x' is not defined"
     ]
    }
   ],
   "source": [
    "class point:\n",
    "    \n",
    "    def __init__(self,x,y,z):\n",
    "        self.x = x\n",
    "        self.y = y\n",
    "        self.z = z\n",
    "    \n",
    "    def sqSum(self):\n",
    "        sqSum = (x*x) + (y*y) + (z*z)\n",
    "        pass\n",
    "    \n",
    "a = point(1,3,5)\n",
    "a.sqSum()"
   ]
  },
  {
   "cell_type": "markdown",
   "id": "a08a730d",
   "metadata": {},
   "source": [
    "# Implement a calculator class"
   ]
  },
  {
   "cell_type": "code",
   "execution_count": 12,
   "id": "b0993121",
   "metadata": {},
   "outputs": [
    {
     "name": "stdout",
     "output_type": "stream",
     "text": [
      "Enter first number:8\n",
      "Enter second number:23\n",
      "Sum: 31\n",
      "Subtraction: -15\n",
      "Multiplication: 184\n",
      "Division: 0.34782608695652173\n"
     ]
    }
   ],
   "source": [
    "class calculator:\n",
    "    def __init__(self,num1,num2):\n",
    "        self.num1 = num1\n",
    "        self.num2 = num2\n",
    "    \n",
    "    def addition(self):\n",
    "        print(\"Sum:\",self.num1 + self.num2)\n",
    "    def subtraction(self):\n",
    "        print(\"Subtraction:\",self.num1-self.num2)\n",
    "    def multiplication(self):\n",
    "        print(\"Multiplication:\",self.num1*self.num2)\n",
    "    def division(self):\n",
    "        print(\"Division:\",self.num1/self.num2)\n",
    "num1 = int(input(\"Enter first number:\"))\n",
    "num2= int(input(\"Enter second number:\"))\n",
    "\n",
    "obj = calculator(num1, num2)\n",
    "obj.addition()\n",
    "obj.subtraction()\n",
    "obj.multiplication()\n",
    "obj.division()"
   ]
  },
  {
   "cell_type": "markdown",
   "id": "90a90a3a",
   "metadata": {},
   "source": [
    "# Implement the complete student class"
   ]
  },
  {
   "cell_type": "code",
   "execution_count": 10,
   "id": "14654011",
   "metadata": {},
   "outputs": [
    {
     "name": "stdout",
     "output_type": "stream",
     "text": [
      "The name of the student is: Ram\n",
      "The rollnumber of the student is: 15\n"
     ]
    },
    {
     "data": {
      "text/plain": [
       "15"
      ]
     },
     "execution_count": 10,
     "metadata": {},
     "output_type": "execute_result"
    }
   ],
   "source": [
    "class Student:\n",
    "    def __init__(self,name,Rollnumber):\n",
    "        self.name = name\n",
    "        self.Rollnumber = Rollnumber\n",
    "    \n",
    "    def setname(self,x):\n",
    "        print(\"The name of the student is:\",x)\n",
    "        self.name = x\n",
    "    \n",
    "    def getname(self):\n",
    "        return self.name\n",
    "    \n",
    "    def setRollnumber(self,y):\n",
    "        print(\"The rollnumber of the student is:\",y)\n",
    "        self.Rollnumber = y \n",
    "    \n",
    "    def getRollnumber(self):\n",
    "        return self.Rollnumber\n",
    "    \n",
    "std = Student(\"Ram\",15)\n",
    "std.setname(\"Ram\")\n",
    "std.getname()\n",
    "std.setRollnumber(15)\n",
    "std.getRollnumber()"
   ]
  },
  {
   "cell_type": "markdown",
   "id": "2d209fb7",
   "metadata": {},
   "source": [
    "# Implement a Banking Account"
   ]
  },
  {
   "cell_type": "code",
   "execution_count": 1,
   "id": "de8d8e9c",
   "metadata": {},
   "outputs": [
    {
     "name": "stdout",
     "output_type": "stream",
     "text": [
      "Ashish\n",
      "5000\n",
      "Ashish 5000 5\n"
     ]
    }
   ],
   "source": [
    "class Account:\n",
    "    def __init__(self,title ,balance):\n",
    "        self.title = title\n",
    "        self.balance = balance\n",
    "    \n",
    "    def display(self):\n",
    "        print(self.title)\n",
    "        print(self.balance)\n",
    "        \n",
    "class Savings(Account): \n",
    "    def __init__(self,title,balance,interestrate):\n",
    "        self.title = title\n",
    "        self.balance = balance\n",
    "        self.interestrate = interestrate\n",
    "    \n",
    "    def displayinfo(self):\n",
    "        print(self.title, self.balance, self.interestrate)\n",
    "    \n",
    "s = Savings(\"Ashish\", 5000, 5)\n",
    "s.display()\n",
    "s.displayinfo()"
   ]
  },
  {
   "cell_type": "markdown",
   "id": "4bc3f763",
   "metadata": {},
   "source": [
    "# Handling a Bank Account"
   ]
  },
  {
   "cell_type": "code",
   "execution_count": 16,
   "id": "4858f948",
   "metadata": {
    "scrolled": true
   },
   "outputs": [
    {
     "name": "stdout",
     "output_type": "stream",
     "text": [
      "Account holders name: Ashish\n",
      "Total balance is: 5000\n",
      "Ashish 5000 5\n",
      "Amount deposited is: 500\n",
      "The withdrawal amount is: 1000\n",
      "The available balance is: 4500\n"
     ]
    },
    {
     "data": {
      "text/plain": [
       "4500"
      ]
     },
     "execution_count": 16,
     "metadata": {},
     "output_type": "execute_result"
    }
   ],
   "source": [
    "class Account:\n",
    "    def __init__(self,title ,balance):\n",
    "        self.title = title\n",
    "        self.balance = balance\n",
    "    \n",
    "    def display(self):\n",
    "        print(\"Account holders name:\",self.title)\n",
    "        print(\"Total balance is:\",self.balance)\n",
    "    \n",
    "    def deposit(self,amount):\n",
    "        self.balance += amount\n",
    "        print(\"Amount deposited is:\", amount)\n",
    "    \n",
    "    def withdrawal(self,amount):\n",
    "        self.balance -= amount\n",
    "        print(\"The withdrawal amount is:\", amount)\n",
    "    \n",
    "    def getbalance(self):\n",
    "        print(\"The available balance is:\", self.balance)\n",
    "        return self.balance\n",
    "        \n",
    "class Savings(Account): \n",
    "    def __init__(self,title,balance,interestrate):\n",
    "        self.title = title\n",
    "        self.balance = balance\n",
    "        self.interestrate = interestrate\n",
    "    \n",
    "    def displayinfo(self):\n",
    "        print(self.title, self.balance, self.interestrate)\n",
    "    \n",
    "s = Savings(\"Ashish\", 5000, 5)\n",
    "s.display()\n",
    "s.displayinfo()\n",
    "s.deposit(500)\n",
    "s.withdrawal(1000)\n",
    "s.getbalance()"
   ]
  },
  {
   "cell_type": "code",
   "execution_count": null,
   "id": "d337be27",
   "metadata": {},
   "outputs": [],
   "source": []
  }
 ],
 "metadata": {
  "kernelspec": {
   "display_name": "Python 3 (ipykernel)",
   "language": "python",
   "name": "python3"
  },
  "language_info": {
   "codemirror_mode": {
    "name": "ipython",
    "version": 3
   },
   "file_extension": ".py",
   "mimetype": "text/x-python",
   "name": "python",
   "nbconvert_exporter": "python",
   "pygments_lexer": "ipython3",
   "version": "3.10.9"
  }
 },
 "nbformat": 4,
 "nbformat_minor": 5
}
